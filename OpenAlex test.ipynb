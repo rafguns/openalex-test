{
 "cells": [
  {
   "cell_type": "code",
   "execution_count": 1,
   "id": "740f34df",
   "metadata": {},
   "outputs": [],
   "source": [
    "import requests"
   ]
  },
  {
   "cell_type": "code",
   "execution_count": 4,
   "id": "310594ac",
   "metadata": {},
   "outputs": [],
   "source": [
    "url = \"https://api.openalex.org/works/doi:10.1007/978-3-030-46224-6_4\""
   ]
  },
  {
   "cell_type": "code",
   "execution_count": 5,
   "id": "675a60d5",
   "metadata": {},
   "outputs": [],
   "source": [
    "r = requests.get(url)"
   ]
  },
  {
   "cell_type": "code",
   "execution_count": 7,
   "id": "cdeddee7",
   "metadata": {},
   "outputs": [
    {
     "data": {
      "text/plain": [
       "[{'id': 'https://openalex.org/C41008148',\n",
       "  'wikidata': 'https://www.wikidata.org/wiki/Q21198',\n",
       "  'display_name': 'Computer science',\n",
       "  'level': 0,\n",
       "  'score': 0.68422},\n",
       " {'id': 'https://openalex.org/C2777904410',\n",
       "  'wikidata': 'https://www.wikidata.org/wiki/Q7397',\n",
       "  'display_name': 'Software',\n",
       "  'level': 2,\n",
       "  'score': 0.453933},\n",
       " {'id': 'https://openalex.org/C36464697',\n",
       "  'wikidata': 'https://www.wikidata.org/wiki/Q451553',\n",
       "  'display_name': 'Visualization',\n",
       "  'level': 2,\n",
       "  'score': 0.404658},\n",
       " {'id': 'https://openalex.org/C115903868',\n",
       "  'wikidata': 'https://www.wikidata.org/wiki/Q80993',\n",
       "  'display_name': 'Software engineering',\n",
       "  'level': 1,\n",
       "  'score': 0.349811},\n",
       " {'id': 'https://openalex.org/C107457646',\n",
       "  'wikidata': 'https://www.wikidata.org/wiki/Q207434',\n",
       "  'display_name': 'Human–computer interaction',\n",
       "  'level': 1,\n",
       "  'score': 0.328463},\n",
       " {'id': 'https://openalex.org/C529173508',\n",
       "  'wikidata': 'https://www.wikidata.org/wiki/Q638608',\n",
       "  'display_name': 'Software development',\n",
       "  'level': 3,\n",
       "  'score': 0.32442}]"
      ]
     },
     "execution_count": 7,
     "metadata": {},
     "output_type": "execute_result"
    }
   ],
   "source": [
    "r.json()[\"concepts\"]"
   ]
  },
  {
   "cell_type": "code",
   "execution_count": null,
   "id": "72533ac6",
   "metadata": {},
   "outputs": [],
   "source": []
  }
 ],
 "metadata": {
  "kernelspec": {
   "display_name": "Python 3",
   "language": "python",
   "name": "python3"
  },
  "language_info": {
   "codemirror_mode": {
    "name": "ipython",
    "version": 3
   },
   "file_extension": ".py",
   "mimetype": "text/x-python",
   "name": "python",
   "nbconvert_exporter": "python",
   "pygments_lexer": "ipython3",
   "version": "3.8.5"
  }
 },
 "nbformat": 4,
 "nbformat_minor": 5
}
